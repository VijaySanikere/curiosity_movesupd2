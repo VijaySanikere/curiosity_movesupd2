{
 "cells": [
  {
   "cell_type": "code",
   "execution_count": 1,
   "metadata": {},
   "outputs": [
    {
     "name": "stdout",
     "output_type": "stream",
     "text": [
      "1\n",
      "2\n",
      "6\n",
      "24\n",
      "120\n"
     ]
    }
   ],
   "source": [
    "#function working like reduce \n",
    "def myreduce(a,b):\n",
    "    mul=1\n",
    "    for i in range(a,b):\n",
    "        mul=mul*i\n",
    "        yield mul\n",
    "for num in myreduce(1,6):\n",
    "    print(num)\n"
   ]
  },
  {
   "cell_type": "code",
   "execution_count": 2,
   "metadata": {},
   "outputs": [
    {
     "name": "stdout",
     "output_type": "stream",
     "text": [
      "2\n",
      "4\n",
      "6\n",
      "8\n",
      "10\n"
     ]
    }
   ],
   "source": [
    "#Write a Python program to implement your own myfilter() function which works exactly like\n",
    "#Python's built-in function filter()\n",
    "\n",
    "def myfilter(a,b):\n",
    "    for i in range(a,b):\n",
    "        if i%2==0:\n",
    "            yield i\n",
    "for num in myfilter(1,11):\n",
    "    print(num)"
   ]
  },
  {
   "cell_type": "code",
   "execution_count": 3,
   "metadata": {},
   "outputs": [
    {
     "name": "stdout",
     "output_type": "stream",
     "text": [
      "['A', 'C', 'A', 'D', 'G', 'I', 'L', 'D']\n"
     ]
    }
   ],
   "source": [
    "list = [i for i in \"ACADGILD\"]\n",
    "print(list)"
   ]
  },
  {
   "cell_type": "code",
   "execution_count": 6,
   "metadata": {},
   "outputs": [
    {
     "name": "stdout",
     "output_type": "stream",
     "text": [
      "[['x', 'xx', 'xxx', 'xxxx'], ['y', 'yy', 'yyy', 'yyyy'], ['z', 'zz', 'zzz', 'zzzz']]\n"
     ]
    }
   ],
   "source": [
    "repeat=[[i,i*2,i*3,i*4] for i in \"xyz\"]\n",
    "print(repeat)"
   ]
  },
  {
   "cell_type": "code",
   "execution_count": 7,
   "metadata": {},
   "outputs": [
    {
     "name": "stdout",
     "output_type": "stream",
     "text": [
      "[['x', 'y', 'z'], ['xx', 'yy', 'zz'], ['xxx', 'yyy', 'zzz'], ['xxxx', 'yyyy', 'zzzz']]\n"
     ]
    }
   ],
   "source": [
    "x=[[i for i in \"xyz\"],[i*2 for i in \"xyz\"],[i*3 for i in \"xyz\"],[i*4 for i in \"xyz\"]]\n",
    "print(x)"
   ]
  },
  {
   "cell_type": "code",
   "execution_count": 8,
   "metadata": {},
   "outputs": [
    {
     "name": "stdout",
     "output_type": "stream",
     "text": [
      "True\n",
      "False\n"
     ]
    }
   ],
   "source": [
    "#Write a Python function which takes a character (i.e. a string of length 1) and returns True if it is\n",
    "#a vowel, False otherwise.\n",
    "def is_vowel(char):\n",
    "    lvowel=['a','e','i','o','u']\n",
    "    uvowel=['A','E','I','O','U']\n",
    "    if (char in lvowel) or (char in uvowel):\n",
    "        return True\n",
    "    else:\n",
    "        return False\n",
    "x=is_vowel(\"a\")\n",
    "print(x)\n",
    "y=is_vowel(\"b\")\n",
    "print(y)"
   ]
  },
  {
   "cell_type": "code",
   "execution_count": 9,
   "metadata": {},
   "outputs": [
    {
     "name": "stdout",
     "output_type": "stream",
     "text": [
      "Enter the words separated by spaces: vijay saniker change \n",
      "Minimum length of words to add: 5\n",
      "Words longer than 5 are saniker, change.\n"
     ]
    }
   ],
   "source": [
    "def longwords(wordlist, length):\n",
    "    return (x for x in wordlist if len(x) > length)\n",
    "\n",
    "def main():\n",
    "    wordlist = input(\"Enter the words separated by spaces: \").split()\n",
    "    length = int(input(\"Minimum length of words to add: \"))\n",
    "    print(\"Words longer than {} are {}.\".format(length,\n",
    "          ', '.join(longwords(wordlist, length))))\n",
    "\n",
    "main()"
   ]
  },
  {
   "cell_type": "code",
   "execution_count": null,
   "metadata": {},
   "outputs": [],
   "source": [
    "#Write a Python program using function concept that maps list of words into a list of integers\n",
    "def listofwords(y):\n",
    " lst=[\"vijay\",\"sanik\",\"change\"]\n",
    " for i in lst: \n",
    "    return len(i)\n",
    "z=list(map(listofwords,lst))\n",
    "print(z)"
   ]
  },
  {
   "cell_type": "code",
   "execution_count": 14,
   "metadata": {},
   "outputs": [
    {
     "name": "stdout",
     "output_type": "stream",
     "text": [
      "20, 20, 20 are the sides of triangle.\n",
      "area of triangle is\n",
      "173.20508075688772\n"
     ]
    }
   ],
   "source": [
    "class triangle:\n",
    "    import math\n",
    "    def __init__(self,S1,S2,S3):\n",
    "        self.S1=S1\n",
    "        self.S2=S2\n",
    "        self.S3=S3\n",
    "    def sides(self):\n",
    "       return \"%d, %d, %d are the sides of triangle.\"%(self.S1,self.S2,self.S3)\n",
    "class area(triangle):\n",
    "    def __init__(self,S1,S2,S3,denom):\n",
    "        triangle.__init__(self,S1,S2,S3)\n",
    "        self.denom=denom\n",
    "    def halfper(self):\n",
    "        print(\"area of triangle is\")\n",
    "        return ((((self.S1+self.S2+self.S3)/self.denom)*(((self.S1+self.S2+self.S3)/self.denom)-(self.S1))*(((self.S1+self.S2+self.S3)/self.denom)-(self.S2))*(((self.S1+self.S2+self.S3)/self.denom)-(self.S3)))**0.5)  \n",
    "b=triangle(20,20,20)\n",
    "print(b.sides())\n",
    "c = area(20,20,20,2)\n",
    "print(c.halfper())"
   ]
  },
  {
   "cell_type": "code",
   "execution_count": null,
   "metadata": {},
   "outputs": [],
   "source": []
  }
 ],
 "metadata": {
  "kernelspec": {
   "display_name": "Python 3",
   "language": "python",
   "name": "python3"
  },
  "language_info": {
   "codemirror_mode": {
    "name": "ipython",
    "version": 3
   },
   "file_extension": ".py",
   "mimetype": "text/x-python",
   "name": "python",
   "nbconvert_exporter": "python",
   "pygments_lexer": "ipython3",
   "version": "3.6.4"
  }
 },
 "nbformat": 4,
 "nbformat_minor": 2
}
